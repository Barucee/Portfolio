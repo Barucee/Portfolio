{
 "cells": [
  {
   "cell_type": "markdown",
   "metadata": {},
   "source": [
    "# Microsoft Stock Price\n",
    "\n",
    "# Introduction\n",
    "\n",
    "This is a dataset of Microsoft Stock price taken from Kaggle [1].\n",
    "\n",
    "\"Stocks and financial instrument trading is a lucrative proposition. Stock markets across the world facilitate such trades and thus wealth exchanges hands. Stock prices move up and down all the time and having ability to predict its movement has immense potential to make one rich.\n",
    "Stock price prediction has kept people interested from a long time. There are hypothesis like the Efficient Market Hypothesis, which says that it is almost impossible to beat the market consistently and there are others which disagree with it.\" - Kaggle introduction of Yahoo Data Set [2]\n",
    "\n",
    "The Data set is coumposed of 7 columns :\n",
    "- Date -> Date of the information\n",
    "- High -> Highest Price of the stock for that particular date.\n",
    "- Low -> Lowest Price of the stock for that particular date.\n",
    "- Open -> Opening Price of the stock.\n",
    "- Close -> Closing Price of the stock.\n",
    "- Volume -> Total amount of Trading Activity.\n",
    "- AdjClose -> Adjusted values factor in corporate actions such as dividends, stock splits, and new share issuance."
   ]
  },
  {
   "cell_type": "markdown",
   "metadata": {},
   "source": [
    "## Import of Libraries and Data"
   ]
  },
  {
   "cell_type": "code",
   "execution_count": 3,
   "metadata": {},
   "outputs": [],
   "source": [
    "#Import libraries of data manipulation & visualization\n",
    "\n",
    "#import data manipulation libraries\n",
    "import os\n",
    "import numpy as np \n",
    "import pandas as pd \n",
    "import math\n",
    "import matplotlib.pyplot as plt\n",
    "import plotly as py\n",
    "import plotly.graph_objs as go\n",
    "import plotly_express as px\n",
    "from sklearn.preprocessing import MinMaxScaler\n",
    "\n",
    "#import parallelization libraries\n",
    "from multiprocessing.pool import ThreadPool\n",
    "import multiprocessing as mp\n",
    "import time\n",
    "\n",
    "#import the test-libraries\n",
    "from statsmodels.tsa.stattools import adfuller\n",
    "from pmdarima.arima.utils import ndiffs\n",
    "import pmdarima as pm\n",
    "from statsmodels.graphics.tsaplots import plot_acf\n",
    "from statsmodels.graphics.tsaplots import plot_pacf\n",
    "\n",
    "#Import the prediction libraries\n",
    "from statsmodels.tsa.arima.model import ARIMA\n",
    "from keras.models import Sequential\n",
    "from keras.layers import Dense, LSTM\n",
    "from prophet import Prophet\n",
    "\n",
    "# import the parallelization libraries\n",
    "from multiprocessing import cpu_count\n",
    "from joblib import Parallel\n",
    "from joblib import delayed\n",
    "\n",
    "# import the saving model libraries :\n",
    "import joblib"
   ]
  },
  {
   "cell_type": "code",
   "execution_count": 4,
   "metadata": {},
   "outputs": [],
   "source": [
    "# Fix the number of CPU used :\n",
    "nCPU = os.cpu_count()\n",
    "pool = ThreadPool(processes=nCPU)"
   ]
  },
  {
   "cell_type": "code",
   "execution_count": 5,
   "metadata": {},
   "outputs": [],
   "source": [
    "# Import DataSet with parallelization on the different Cpus\n",
    "path = os.path.abspath(\"../Data/Microsoft_Stock.csv\")\n",
    "def import_df(file_name):\n",
    "    df = pd.read_csv(file_name)\n",
    "    return df\n",
    "df = pool.apply_async(import_df, (path, )).get() "
   ]
  },
  {
   "cell_type": "markdown",
   "metadata": {},
   "source": [
    "## Data presentation"
   ]
  },
  {
   "cell_type": "code",
   "execution_count": 6,
   "metadata": {},
   "outputs": [],
   "source": [
    "#change Date as Date\n",
    "df['Date'] = pd.to_datetime(df['Date'])\n"
   ]
  },
  {
   "cell_type": "code",
   "execution_count": 6,
   "metadata": {},
   "outputs": [
    {
     "data": {
      "text/html": [
       "<div>\n",
       "<style scoped>\n",
       "    .dataframe tbody tr th:only-of-type {\n",
       "        vertical-align: middle;\n",
       "    }\n",
       "\n",
       "    .dataframe tbody tr th {\n",
       "        vertical-align: top;\n",
       "    }\n",
       "\n",
       "    .dataframe thead th {\n",
       "        text-align: right;\n",
       "    }\n",
       "</style>\n",
       "<table border=\"1\" class=\"dataframe\">\n",
       "  <thead>\n",
       "    <tr style=\"text-align: right;\">\n",
       "      <th></th>\n",
       "      <th>Date</th>\n",
       "      <th>Open</th>\n",
       "      <th>High</th>\n",
       "      <th>Low</th>\n",
       "      <th>Close</th>\n",
       "      <th>Volume</th>\n",
       "    </tr>\n",
       "  </thead>\n",
       "  <tbody>\n",
       "    <tr>\n",
       "      <th>0</th>\n",
       "      <td>2015-04-01 16:00:00</td>\n",
       "      <td>40.60</td>\n",
       "      <td>40.76</td>\n",
       "      <td>40.31</td>\n",
       "      <td>40.72</td>\n",
       "      <td>36865322</td>\n",
       "    </tr>\n",
       "    <tr>\n",
       "      <th>1</th>\n",
       "      <td>2015-04-02 16:00:00</td>\n",
       "      <td>40.66</td>\n",
       "      <td>40.74</td>\n",
       "      <td>40.12</td>\n",
       "      <td>40.29</td>\n",
       "      <td>37487476</td>\n",
       "    </tr>\n",
       "    <tr>\n",
       "      <th>2</th>\n",
       "      <td>2015-04-06 16:00:00</td>\n",
       "      <td>40.34</td>\n",
       "      <td>41.78</td>\n",
       "      <td>40.18</td>\n",
       "      <td>41.55</td>\n",
       "      <td>39223692</td>\n",
       "    </tr>\n",
       "    <tr>\n",
       "      <th>3</th>\n",
       "      <td>2015-04-07 16:00:00</td>\n",
       "      <td>41.61</td>\n",
       "      <td>41.91</td>\n",
       "      <td>41.31</td>\n",
       "      <td>41.53</td>\n",
       "      <td>28809375</td>\n",
       "    </tr>\n",
       "    <tr>\n",
       "      <th>4</th>\n",
       "      <td>2015-04-08 16:00:00</td>\n",
       "      <td>41.48</td>\n",
       "      <td>41.69</td>\n",
       "      <td>41.04</td>\n",
       "      <td>41.42</td>\n",
       "      <td>24753438</td>\n",
       "    </tr>\n",
       "    <tr>\n",
       "      <th>...</th>\n",
       "      <td>...</td>\n",
       "      <td>...</td>\n",
       "      <td>...</td>\n",
       "      <td>...</td>\n",
       "      <td>...</td>\n",
       "      <td>...</td>\n",
       "    </tr>\n",
       "    <tr>\n",
       "      <th>1506</th>\n",
       "      <td>2021-03-25 16:00:00</td>\n",
       "      <td>235.30</td>\n",
       "      <td>236.94</td>\n",
       "      <td>231.57</td>\n",
       "      <td>232.34</td>\n",
       "      <td>34061853</td>\n",
       "    </tr>\n",
       "    <tr>\n",
       "      <th>1507</th>\n",
       "      <td>2021-03-26 16:00:00</td>\n",
       "      <td>231.55</td>\n",
       "      <td>236.71</td>\n",
       "      <td>231.55</td>\n",
       "      <td>236.48</td>\n",
       "      <td>25479853</td>\n",
       "    </tr>\n",
       "    <tr>\n",
       "      <th>1508</th>\n",
       "      <td>2021-03-29 16:00:00</td>\n",
       "      <td>236.59</td>\n",
       "      <td>236.80</td>\n",
       "      <td>231.88</td>\n",
       "      <td>235.24</td>\n",
       "      <td>25227455</td>\n",
       "    </tr>\n",
       "    <tr>\n",
       "      <th>1509</th>\n",
       "      <td>2021-03-30 16:00:00</td>\n",
       "      <td>233.53</td>\n",
       "      <td>233.85</td>\n",
       "      <td>231.10</td>\n",
       "      <td>231.85</td>\n",
       "      <td>24792012</td>\n",
       "    </tr>\n",
       "    <tr>\n",
       "      <th>1510</th>\n",
       "      <td>2021-03-31 16:00:00</td>\n",
       "      <td>232.91</td>\n",
       "      <td>239.10</td>\n",
       "      <td>232.39</td>\n",
       "      <td>235.77</td>\n",
       "      <td>43623471</td>\n",
       "    </tr>\n",
       "  </tbody>\n",
       "</table>\n",
       "<p>1511 rows × 6 columns</p>\n",
       "</div>"
      ],
      "text/plain": [
       "                    Date    Open    High     Low   Close    Volume\n",
       "0    2015-04-01 16:00:00   40.60   40.76   40.31   40.72  36865322\n",
       "1    2015-04-02 16:00:00   40.66   40.74   40.12   40.29  37487476\n",
       "2    2015-04-06 16:00:00   40.34   41.78   40.18   41.55  39223692\n",
       "3    2015-04-07 16:00:00   41.61   41.91   41.31   41.53  28809375\n",
       "4    2015-04-08 16:00:00   41.48   41.69   41.04   41.42  24753438\n",
       "...                  ...     ...     ...     ...     ...       ...\n",
       "1506 2021-03-25 16:00:00  235.30  236.94  231.57  232.34  34061853\n",
       "1507 2021-03-26 16:00:00  231.55  236.71  231.55  236.48  25479853\n",
       "1508 2021-03-29 16:00:00  236.59  236.80  231.88  235.24  25227455\n",
       "1509 2021-03-30 16:00:00  233.53  233.85  231.10  231.85  24792012\n",
       "1510 2021-03-31 16:00:00  232.91  239.10  232.39  235.77  43623471\n",
       "\n",
       "[1511 rows x 6 columns]"
      ]
     },
     "execution_count": 6,
     "metadata": {},
     "output_type": "execute_result"
    }
   ],
   "source": [
    "df"
   ]
  },
  {
   "cell_type": "code",
   "execution_count": 7,
   "metadata": {},
   "outputs": [
    {
     "name": "stdout",
     "output_type": "stream",
     "text": [
      "The dataframe begins on : 2015-04-01, and finish on : 2021-03-31.\n"
     ]
    }
   ],
   "source": [
    "print(f\"The dataframe begins on : {df.Date.dt.date.min()}, and finish on : {df.Date.dt.date.max()}.\")"
   ]
  },
  {
   "cell_type": "code",
   "execution_count": 8,
   "metadata": {},
   "outputs": [
    {
     "name": "stdout",
     "output_type": "stream",
     "text": [
      "The dataframe contains 1511 rows and 6 columns\n"
     ]
    }
   ],
   "source": [
    "print(f\"The dataframe contains {df.shape[0]} rows and {df.shape[1]} columns\")"
   ]
  },
  {
   "cell_type": "code",
   "execution_count": 10,
   "metadata": {},
   "outputs": [
    {
     "data": {
      "text/plain": [
       "Date      0\n",
       "Open      0\n",
       "High      0\n",
       "Low       0\n",
       "Close     0\n",
       "Volume    0\n",
       "dtype: int64"
      ]
     },
     "execution_count": 10,
     "metadata": {},
     "output_type": "execute_result"
    }
   ],
   "source": [
    "df.isnull().sum()"
   ]
  },
  {
   "cell_type": "markdown",
   "metadata": {},
   "source": [
    "We have no null values so it is cool."
   ]
  },
  {
   "cell_type": "markdown",
   "metadata": {},
   "source": [
    "# Data visualization"
   ]
  },
  {
   "cell_type": "code",
   "execution_count": 11,
   "metadata": {},
   "outputs": [
    {
     "data": {
      "image/png": "[encoded data removed]",
      "text/plain": [
       "<Figure size 1152x576 with 1 Axes>"
      ]
     },
     "metadata": {
      "needs_background": "light"
     },
     "output_type": "display_data"
    }
   ],
   "source": [
    "#plotting the data\n",
    "plt.figure(figsize=(16,8))\n",
    "plt.title('Close Price History')\n",
    "plt.plot(df.Date,df['Close'], color='blue')\n",
    "plt.xlabel('Date', fontsize=18)\n",
    "plt.ylabel('Close Price USD', fontsize = 18)\n",
    "plt.show()"
   ]
  },
  {
   "cell_type": "markdown",
   "metadata": {},
   "source": [
    "- There was an increase in the stock price from 2017 to 2020.\n",
    "- The stock price fell at the beginning of 2020 because of Covid.\n",
    "- The stock prices increased again at the second quarter."
   ]
  },
  {
   "cell_type": "markdown",
   "metadata": {},
   "source": [
    "# ARIMA Model"
   ]
  },
  {
   "cell_type": "markdown",
   "metadata": {},
   "source": [
    "I did this part thanks to the videos [3], [4] and my school knowledges. \n",
    "\n",
    "Three factors define ARIMA model, it is defined as ARIMA(p,d,q) where p, d, and q denote\n",
    "- p is the order of the AR term or the number of lagged (or past) observations to consider for autoregression. \n",
    "- d is the number of differencing required to make the time series stationary\n",
    "- q is the order of the MA term\n"
   ]
  },
  {
   "cell_type": "markdown",
   "metadata": {},
   "source": [
    "## D - ADF Test\n",
    "\n",
    "Autoregressive models are conceptually similar to linear regression, the assumptions made by the latter hold here as well. Time series data must be made stationary to remove any obvious correlation and collinearity with the past data. In stationary time-series data, the properties or value of a sample observation does not depend on the timestamp at which it is observed. [5]\n",
    "\n",
    "$$y_t' = y_t - y_{t-1} = y_t - B y_t = (1-B)y_t$$ \n",
    "where B denotes the backshift operator\n",
    "\n",
    "We will use the augmented dickey fuller (ADF) test to check if the serie is stationnary.\n",
    "\n",
    "The null hypothesis of the ADF test is that the time series is non-stationnary. So, if the p-value of the test is upper than the significance level then we can reject the null hypothesis and infer that the time serie is indeed stationnary."
   ]
  },
  {
   "cell_type": "code",
   "execution_count": 12,
   "metadata": {},
   "outputs": [
    {
     "name": "stdout",
     "output_type": "stream",
     "text": [
      "ADF Statistics: 1.737136289927098\n",
      "p-value: 0.9982158366942122\n"
     ]
    }
   ],
   "source": [
    "result_adf = adfuller(df.Close)\n",
    "print(f\"ADF Statistics: {result_adf[0]}\")\n",
    "print(f\"p-value: {result_adf[1]}\")"
   ]
  },
  {
   "cell_type": "markdown",
   "metadata": {},
   "source": [
    "The serie is not stationnary. We'll need to differentiate once to see."
   ]
  },
  {
   "cell_type": "code",
   "execution_count": 13,
   "metadata": {},
   "outputs": [
    {
     "name": "stdout",
     "output_type": "stream",
     "text": [
      "ADF Statistics: -10.038331065146412\n",
      "p-value: 1.5195939917530848e-17\n"
     ]
    }
   ],
   "source": [
    "diff = df.Close.diff().dropna()\n",
    "result_adf1 = adfuller(diff)\n",
    "print(f\"ADF Statistics: {result_adf1[0]}\")\n",
    "print(f\"p-value: {result_adf1[1]}\")"
   ]
  },
  {
   "cell_type": "markdown",
   "metadata": {},
   "source": [
    "We can also go quicker and use this package which gives us the number of difference we need."
   ]
  },
  {
   "cell_type": "code",
   "execution_count": 14,
   "metadata": {},
   "outputs": [
    {
     "name": "stdout",
     "output_type": "stream",
     "text": [
      "The ARIMA model need 1 difference.\n"
     ]
    }
   ],
   "source": [
    "d_optimum = ndiffs(df.Close.dropna(),test=\"adf\")\n",
    "print(f\"The ARIMA model need {d_optimum} difference.\")"
   ]
  },
  {
   "cell_type": "markdown",
   "metadata": {},
   "source": [
    "## P - PACF\n",
    "\n",
    "p is the order of the Auto Regressive (AR) term. It refers to the number of lags to be used as predictors.\n",
    "\n",
    "The below equation shows a typical autoregressive model. As the name suggests, the new values of this model depend purely on a weighted linear combination of its past values. Given that there are p past values, this is denoted as AR(p) or an autoregressive model of the order p. Epsilon ($\\epsilon$) indicates the white noise.\n",
    "\n",
    "$$Y_t = \\alpha  + \\beta_1 Y_{t-1} + \\beta_2 Y_{t-2} + ... + \\beta_p Y_{t-p} + \\epsilon_1$$\n",
    "\n",
    "We can find out the required number of AR terms by inspecting the Partial Autocorrelation (PACF) plot.\n",
    "\n",
    "The partial autocorrelation represents the correlation between the series and its lags. [5]"
   ]
  },
  {
   "cell_type": "code",
   "execution_count": 15,
   "metadata": {},
   "outputs": [
    {
     "name": "stderr",
     "output_type": "stream",
     "text": [
      "c:\\Users\\33646\\anaconda3\\lib\\site-packages\\statsmodels\\graphics\\tsaplots.py:348: FutureWarning: The default method 'yw' can produce PACF values outside of the [-1,1] interval. After 0.13, the default will change tounadjusted Yule-Walker ('ywm'). You can use this method now by setting method='ywm'.\n",
      "  warnings.warn(\n"
     ]
    },
    {
     "data": {
      "image/png": "[encoded data removed]",
      "text/plain": [
       "<Figure size 1152x288 with 2 Axes>"
      ]
     },
     "metadata": {
      "needs_background": "light"
     },
     "output_type": "display_data"
    }
   ],
   "source": [
    "fig, (ax1,ax2) = plt.subplots(1,2, figsize=(16,4))\n",
    "\n",
    "ax1.plot(diff)\n",
    "ax1.set_title(\"Difference once\")\n",
    "\n",
    "plot_pacf(diff, ax=ax2);"
   ]
  },
  {
   "cell_type": "markdown",
   "metadata": {},
   "source": [
    "## Q - ACF\n",
    "\n",
    "q is the order of the moving average (MA) term. It refers to the number of lagged forecast errors that should go into the ARIMA model.\n",
    "\n",
    "Here, the future value $Y_t$ is computed based on the errors $\\epsilon_t$ made by the previous model. So, each successive term looks one step further into the past to incorporate the mistakes made by that model in the current computation. Based on the window we are willing to look past, the value of q is set. Thus, the below model can be independently denoted as a moving average order q or simply MA(q).\n",
    "\n",
    "$$y_t = \\epsilon_t + \\theta_1 \\epsilon_{t-1} + \\theta_2 \\epsilon_{t-2} + ... + \\theta_q \\epsilon_{t-q}$$\n",
    "\n",
    "We can look at the ACF plot for the number of MA terms. [5]"
   ]
  },
  {
   "cell_type": "code",
   "execution_count": 16,
   "metadata": {},
   "outputs": [
    {
     "data": {
      "image/png": "[encoded data removed]",
      "text/plain": [
       "<Figure size 1152x288 with 2 Axes>"
      ]
     },
     "metadata": {
      "needs_background": "light"
     },
     "output_type": "display_data"
    }
   ],
   "source": [
    "fig, (ax1,ax2) = plt.subplots(1,2, figsize=(16,4))\n",
    "\n",
    "ax1.plot(diff)\n",
    "ax1.set_title(\"Difference once\")\n",
    "\n",
    "plot_acf(diff, ax=ax2);"
   ]
  },
  {
   "cell_type": "markdown",
   "metadata": {},
   "source": [
    "## Fitting the ARIMA Model"
   ]
  },
  {
   "cell_type": "code",
   "execution_count": 17,
   "metadata": {},
   "outputs": [],
   "source": [
    "#We ll cut the dataset in a training and a testing set\n",
    "n = int(len(df) * 0.8)\n",
    "train_arima = df.Close[:n]\n",
    "test_arima = df.Close[n:]"
   ]
  },
  {
   "cell_type": "code",
   "execution_count": 18,
   "metadata": {},
   "outputs": [],
   "source": [
    "def train_ARIMA(p,q):\n",
    "    arima_model = ARIMA(train_arima, order=(p,d_optimum,q))\n",
    "    ARIMA_Model = arima_model.fit()\n",
    "    return ARIMA_Model\n"
   ]
  },
  {
   "cell_type": "code",
   "execution_count": 19,
   "metadata": {},
   "outputs": [
    {
     "name": "stderr",
     "output_type": "stream",
     "text": [
      "c:\\Users\\33646\\anaconda3\\lib\\site-packages\\statsmodels\\tsa\\statespace\\sarimax.py:966: UserWarning: Non-stationary starting autoregressive parameters found. Using zeros as starting parameters.\n",
      "  warn('Non-stationary starting autoregressive parameters'\n",
      "c:\\Users\\33646\\anaconda3\\lib\\site-packages\\statsmodels\\tsa\\statespace\\sarimax.py:978: UserWarning: Non-invertible starting MA parameters found. Using zeros as starting parameters.\n",
      "  warn('Non-invertible starting MA parameters found.'\n",
      "c:\\Users\\33646\\anaconda3\\lib\\site-packages\\statsmodels\\tsa\\statespace\\sarimax.py:966: UserWarning: Non-stationary starting autoregressive parameters found. Using zeros as starting parameters.\n",
      "  warn('Non-stationary starting autoregressive parameters'\n",
      "c:\\Users\\33646\\anaconda3\\lib\\site-packages\\statsmodels\\tsa\\statespace\\sarimax.py:978: UserWarning: Non-invertible starting MA parameters found. Using zeros as starting parameters.\n",
      "  warn('Non-invertible starting MA parameters found.'\n",
      "c:\\Users\\33646\\anaconda3\\lib\\site-packages\\statsmodels\\tsa\\statespace\\sarimax.py:966: UserWarning: Non-stationary starting autoregressive parameters found. Using zeros as starting parameters.\n",
      "  warn('Non-stationary starting autoregressive parameters'\n",
      "c:\\Users\\33646\\anaconda3\\lib\\site-packages\\statsmodels\\tsa\\statespace\\sarimax.py:978: UserWarning: Non-invertible starting MA parameters found. Using zeros as starting parameters.\n",
      "  warn('Non-invertible starting MA parameters found.'\n",
      "c:\\Users\\33646\\anaconda3\\lib\\site-packages\\statsmodels\\base\\model.py:604: ConvergenceWarning: Maximum Likelihood optimization failed to converge. Check mle_retvals\n",
      "  warnings.warn(\"Maximum Likelihood optimization failed to \"\n"
     ]
    }
   ],
   "source": [
    "arimas = {}\n",
    "for i in range(0, 6):\n",
    "  for j in range(0, 6):\n",
    "    arimas[(i, j)] = train_ARIMA(i, j)"
   ]
  },
  {
   "cell_type": "code",
   "execution_count": null,
   "metadata": {},
   "outputs": [],
   "source": [
    "from concurrent.futures import ProcessPoolExecutor\n",
    "with ProcessPoolExecutor() as executor:\n",
    "    arimas = list(executor.map(train_ARIMA, [(i, j) for i in range(0, 6) for j in range(0, 6)]))"
   ]
  },
  {
   "cell_type": "code",
   "execution_count": 2,
   "metadata": {},
   "outputs": [
    {
     "ename": "NameError",
     "evalue": "name 'joblib' is not defined",
     "output_type": "error",
     "traceback": [
      "\u001b[1;31m---------------------------------------------------------------------------\u001b[0m",
      "\u001b[1;31mNameError\u001b[0m                                 Traceback (most recent call last)",
      "\u001b[1;32mc:\\Users\\33646\\Documents\\GitHub\\Portfolio\\Microsoft_Stock_Price\\Code\\Microsoft_Stock_Price.ipynb Cell 32\u001b[0m in \u001b[0;36m<cell line: 3>\u001b[1;34m()\u001b[0m\n\u001b[0;32m      <a href='vscode-notebook-cell:/c%3A/Users/33646/Documents/GitHub/Portfolio/Microsoft_Stock_Price/Code/Microsoft_Stock_Price.ipynb#X43sZmlsZQ%3D%3D?line=2'>3</a>\u001b[0m \u001b[39mfor\u001b[39;00m i \u001b[39min\u001b[39;00m \u001b[39mrange\u001b[39m(\u001b[39m0\u001b[39m,\u001b[39m6\u001b[39m):\n\u001b[0;32m      <a href='vscode-notebook-cell:/c%3A/Users/33646/Documents/GitHub/Portfolio/Microsoft_Stock_Price/Code/Microsoft_Stock_Price.ipynb#X43sZmlsZQ%3D%3D?line=3'>4</a>\u001b[0m     \u001b[39mfor\u001b[39;00m j \u001b[39min\u001b[39;00m \u001b[39mrange\u001b[39m(\u001b[39m0\u001b[39m,\u001b[39m6\u001b[39m):\n\u001b[1;32m----> <a href='vscode-notebook-cell:/c%3A/Users/33646/Documents/GitHub/Portfolio/Microsoft_Stock_Price/Code/Microsoft_Stock_Price.ipynb#X43sZmlsZQ%3D%3D?line=4'>5</a>\u001b[0m         models_ARIMA[\u001b[39mf\u001b[39m\u001b[39m\"\u001b[39m\u001b[39mARIMA\u001b[39m\u001b[39m{\u001b[39;00mi\u001b[39m}\u001b[39;00m\u001b[39m{\u001b[39;00md_optimum\u001b[39m}\u001b[39;00m\u001b[39m{\u001b[39;00mj\u001b[39m}\u001b[39;00m\u001b[39m\"\u001b[39m] \u001b[39m=\u001b[39m joblib\u001b[39m.\u001b[39mload(\u001b[39mf\u001b[39m\u001b[39m'\u001b[39m\u001b[39m../Model/ARIMA/arima\u001b[39m\u001b[39m{\u001b[39;00mi\u001b[39m}\u001b[39;00m\u001b[39m{\u001b[39;00md_optimum\u001b[39m}\u001b[39;00m\u001b[39m{\u001b[39;00mj\u001b[39m}\u001b[39;00m\u001b[39m.pkl\u001b[39m\u001b[39m'\u001b[39m)\n",
      "\u001b[1;31mNameError\u001b[0m: name 'joblib' is not defined"
     ]
    }
   ],
   "source": [
    "#load the models :\n",
    "models_ARIMA = {}\n",
    "for i in range(0,6):\n",
    "    for j in range(0,6):\n",
    "        models_ARIMA[f\"ARIMA{i}{d_optimum}{j}\"] = joblib.load(f'../Model/ARIMA/arima{i}{d_optimum}{j}.pkl') \n",
    "\n"
   ]
  },
  {
   "cell_type": "code",
   "execution_count": 21,
   "metadata": {},
   "outputs": [
    {
     "data": {
      "text/html": [
       "<table class=\"simpletable\">\n",
       "<caption>SARIMAX Results</caption>\n",
       "<tr>\n",
       "  <th>Dep. Variable:</th>         <td>Close</td>      <th>  No. Observations:  </th>   <td>1208</td>   \n",
       "</tr>\n",
       "<tr>\n",
       "  <th>Model:</th>            <td>ARIMA(1, 1, 1)</td>  <th>  Log Likelihood     </th> <td>-1965.168</td>\n",
       "</tr>\n",
       "<tr>\n",
       "  <th>Date:</th>            <td>Wed, 21 Dec 2022</td> <th>  AIC                </th> <td>3936.335</td> \n",
       "</tr>\n",
       "<tr>\n",
       "  <th>Time:</th>                <td>12:36:11</td>     <th>  BIC                </th> <td>3951.623</td> \n",
       "</tr>\n",
       "<tr>\n",
       "  <th>Sample:</th>                  <td>0</td>        <th>  HQIC               </th> <td>3942.092</td> \n",
       "</tr>\n",
       "<tr>\n",
       "  <th></th>                      <td> - 1208</td>     <th>                     </th>     <td> </td>    \n",
       "</tr>\n",
       "<tr>\n",
       "  <th>Covariance Type:</th>        <td>opg</td>       <th>                     </th>     <td> </td>    \n",
       "</tr>\n",
       "</table>\n",
       "<table class=\"simpletable\">\n",
       "<tr>\n",
       "     <td></td>       <th>coef</th>     <th>std err</th>      <th>z</th>      <th>P>|z|</th>  <th>[0.025</th>    <th>0.975]</th>  \n",
       "</tr>\n",
       "<tr>\n",
       "  <th>ar.L1</th>  <td>    0.4739</td> <td>    0.115</td> <td>    4.111</td> <td> 0.000</td> <td>    0.248</td> <td>    0.700</td>\n",
       "</tr>\n",
       "<tr>\n",
       "  <th>ma.L1</th>  <td>   -0.5970</td> <td>    0.106</td> <td>   -5.650</td> <td> 0.000</td> <td>   -0.804</td> <td>   -0.390</td>\n",
       "</tr>\n",
       "<tr>\n",
       "  <th>sigma2</th> <td>    1.5195</td> <td>    0.036</td> <td>   42.092</td> <td> 0.000</td> <td>    1.449</td> <td>    1.590</td>\n",
       "</tr>\n",
       "</table>\n",
       "<table class=\"simpletable\">\n",
       "<tr>\n",
       "  <th>Ljung-Box (L1) (Q):</th>     <td>0.13</td> <th>  Jarque-Bera (JB):  </th> <td>896.19</td>\n",
       "</tr>\n",
       "<tr>\n",
       "  <th>Prob(Q):</th>                <td>0.72</td> <th>  Prob(JB):          </th>  <td>0.00</td> \n",
       "</tr>\n",
       "<tr>\n",
       "  <th>Heteroskedasticity (H):</th> <td>4.42</td> <th>  Skew:              </th>  <td>-0.25</td>\n",
       "</tr>\n",
       "<tr>\n",
       "  <th>Prob(H) (two-sided):</th>    <td>0.00</td> <th>  Kurtosis:          </th>  <td>7.19</td> \n",
       "</tr>\n",
       "</table><br/><br/>Warnings:<br/>[1] Covariance matrix calculated using the outer product of gradients (complex-step)."
      ],
      "text/plain": [
       "<class 'statsmodels.iolib.summary.Summary'>\n",
       "\"\"\"\n",
       "                               SARIMAX Results                                \n",
       "==============================================================================\n",
       "Dep. Variable:                  Close   No. Observations:                 1208\n",
       "Model:                 ARIMA(1, 1, 1)   Log Likelihood               -1965.168\n",
       "Date:                Wed, 21 Dec 2022   AIC                           3936.335\n",
       "Time:                        12:36:11   BIC                           3951.623\n",
       "Sample:                             0   HQIC                          3942.092\n",
       "                               - 1208                                         \n",
       "Covariance Type:                  opg                                         \n",
       "==============================================================================\n",
       "                 coef    std err          z      P>|z|      [0.025      0.975]\n",
       "------------------------------------------------------------------------------\n",
       "ar.L1          0.4739      0.115      4.111      0.000       0.248       0.700\n",
       "ma.L1         -0.5970      0.106     -5.650      0.000      -0.804      -0.390\n",
       "sigma2         1.5195      0.036     42.092      0.000       1.449       1.590\n",
       "===================================================================================\n",
       "Ljung-Box (L1) (Q):                   0.13   Jarque-Bera (JB):               896.19\n",
       "Prob(Q):                              0.72   Prob(JB):                         0.00\n",
       "Heteroskedasticity (H):               4.42   Skew:                            -0.25\n",
       "Prob(H) (two-sided):                  0.00   Kurtosis:                         7.19\n",
       "===================================================================================\n",
       "\n",
       "Warnings:\n",
       "[1] Covariance matrix calculated using the outer product of gradients (complex-step).\n",
       "\"\"\""
      ]
     },
     "execution_count": 21,
     "metadata": {},
     "output_type": "execute_result"
    }
   ],
   "source": [
    "models_ARIMA[\"ARIMA111\"].summary()"
   ]
  },
  {
   "cell_type": "code",
   "execution_count": 22,
   "metadata": {},
   "outputs": [
    {
     "data": {
      "text/plain": [
       "{'ARIMA010': <statsmodels.tsa.arima.model.ARIMAResultsWrapper at 0x19c1093ef40>,\n",
       " 'ARIMA011': <statsmodels.tsa.arima.model.ARIMAResultsWrapper at 0x19c10973ee0>,\n",
       " 'ARIMA012': <statsmodels.tsa.arima.model.ARIMAResultsWrapper at 0x19c1097cbb0>,\n",
       " 'ARIMA013': <statsmodels.tsa.arima.model.ARIMAResultsWrapper at 0x19c109a0df0>,\n",
       " 'ARIMA014': <statsmodels.tsa.arima.model.ARIMAResultsWrapper at 0x19c109c5eb0>,\n",
       " 'ARIMA015': <statsmodels.tsa.arima.model.ARIMAResultsWrapper at 0x19c109ebee0>,\n",
       " 'ARIMA110': <statsmodels.tsa.arima.model.ARIMAResultsWrapper at 0x19c10a0dac0>,\n",
       " 'ARIMA111': <statsmodels.tsa.arima.model.ARIMAResultsWrapper at 0x19c10a32e50>,\n",
       " 'ARIMA112': <statsmodels.tsa.arima.model.ARIMAResultsWrapper at 0x19c10a56b80>,\n",
       " 'ARIMA113': <statsmodels.tsa.arima.model.ARIMAResultsWrapper at 0x19c10a7adc0>,\n",
       " 'ARIMA114': <statsmodels.tsa.arima.model.ARIMAResultsWrapper at 0x19c10a9dfa0>,\n",
       " 'ARIMA115': <statsmodels.tsa.arima.model.ARIMAResultsWrapper at 0x19c10ae5eb0>,\n",
       " 'ARIMA210': <statsmodels.tsa.arima.model.ARIMAResultsWrapper at 0x19c10b0af40>,\n",
       " 'ARIMA211': <statsmodels.tsa.arima.model.ARIMAResultsWrapper at 0x19c10b14f40>,\n",
       " 'ARIMA212': <statsmodels.tsa.arima.model.ARIMAResultsWrapper at 0x19c10b37f40>,\n",
       " 'ARIMA213': <statsmodels.tsa.arima.model.ARIMAResultsWrapper at 0x19c10b58d60>,\n",
       " 'ARIMA214': <statsmodels.tsa.arima.model.ARIMAResultsWrapper at 0x19c10b7cd60>,\n",
       " 'ARIMA215': <statsmodels.tsa.arima.model.ARIMAResultsWrapper at 0x19c10ba2f70>,\n",
       " 'ARIMA310': <statsmodels.tsa.arima.model.ARIMAResultsWrapper at 0x19c10bc6e80>,\n",
       " 'ARIMA311': <statsmodels.tsa.arima.model.ARIMAResultsWrapper at 0x19c10be9e80>,\n",
       " 'ARIMA312': <statsmodels.tsa.arima.model.ARIMAResultsWrapper at 0x19c10c0fdf0>,\n",
       " 'ARIMA313': <statsmodels.tsa.arima.model.ARIMAResultsWrapper at 0x19c10c32b20>,\n",
       " 'ARIMA314': <statsmodels.tsa.arima.model.ARIMAResultsWrapper at 0x19c10c55d60>,\n",
       " 'ARIMA315': <statsmodels.tsa.arima.model.ARIMAResultsWrapper at 0x19c10c79f40>,\n",
       " 'ARIMA410': <statsmodels.tsa.arima.model.ARIMAResultsWrapper at 0x19c2cfb4eb0>,\n",
       " 'ARIMA411': <statsmodels.tsa.arima.model.ARIMAResultsWrapper at 0x19c2cfd7eb0>,\n",
       " 'ARIMA412': <statsmodels.tsa.arima.model.ARIMAResultsWrapper at 0x19c2dfcbf40>,\n",
       " 'ARIMA413': <statsmodels.tsa.arima.model.ARIMAResultsWrapper at 0x19c2dfd3f40>,\n",
       " 'ARIMA414': <statsmodels.tsa.arima.model.ARIMAResultsWrapper at 0x19c2efc8f40>,\n",
       " 'ARIMA415': <statsmodels.tsa.arima.model.ARIMAResultsWrapper at 0x19c2efebcd0>,\n",
       " 'ARIMA510': <statsmodels.tsa.arima.model.ARIMAResultsWrapper at 0x19c2ffdee80>,\n",
       " 'ARIMA511': <statsmodels.tsa.arima.model.ARIMAResultsWrapper at 0x19c30005fa0>,\n",
       " 'ARIMA512': <statsmodels.tsa.arima.model.ARIMAResultsWrapper at 0x19c30ffaf40>,\n",
       " 'ARIMA513': <statsmodels.tsa.arima.model.ARIMAResultsWrapper at 0x19c3101cdf0>,\n",
       " 'ARIMA514': <statsmodels.tsa.arima.model.ARIMAResultsWrapper at 0x19c32012b20>,\n",
       " 'ARIMA515': <statsmodels.tsa.arima.model.ARIMAResultsWrapper at 0x19c33004d00>}"
      ]
     },
     "execution_count": 22,
     "metadata": {},
     "output_type": "execute_result"
    }
   ],
   "source": [
    "models_ARIMA"
   ]
  },
  {
   "cell_type": "code",
   "execution_count": 32,
   "metadata": {},
   "outputs": [
    {
     "data": {
      "image/png": "[encoded data removed]",
      "text/plain": [
       "<Figure size 432x288 with 1 Axes>"
      ]
     },
     "metadata": {
      "needs_background": "light"
     },
     "output_type": "display_data"
    }
   ],
   "source": [
    "#plot residual errors\n",
    "residuals_arima = pd.DataFrame(models_ARIMA[\"ARIMA111\"].resid)\n",
    "plt.hist(residuals_arima, bins=30);"
   ]
  },
  {
   "cell_type": "code",
   "execution_count": null,
   "metadata": {},
   "outputs": [],
   "source": [
    "np.arange(0, 2)"
   ]
  },
  {
   "cell_type": "markdown",
   "metadata": {},
   "source": [
    "## Forecast of the ARIMA model"
   ]
  },
  {
   "cell_type": "code",
   "execution_count": 23,
   "metadata": {},
   "outputs": [
    {
     "data": {
      "text/plain": [
       "<matplotlib.legend.Legend at 0x19c330044c0>"
      ]
     },
     "execution_count": 23,
     "metadata": {},
     "output_type": "execute_result"
    },
    {
     "data": {
      "image/png": "[encoded data removed]",
      "text/plain": [
       "<Figure size 1152x576 with 1 Axes>"
      ]
     },
     "metadata": {
      "needs_background": "light"
     },
     "output_type": "display_data"
    }
   ],
   "source": [
    "\n",
    "Prediction_arima = models_ARIMA[\"ARIMA111\"].predict(len(train_arima), len(train_arima)+len(test_arima)-1, typ='levels', alpha = 0.05)\n",
    "#plot fitted values\n",
    "plt.figure(figsize=(16,8))\n",
    "plt.title(\"Model ARIMA\")\n",
    "plt.xlabel(\"Date\", fontsize=18)\n",
    "plt.ylabel(\"Close Price USD ($)\", fontsize=18)\n",
    "plt.plot(test_arima, color='green', label='Test')\n",
    "plt.plot(train_arima, color='blue', label='Train')\n",
    "#plot the legend\n",
    "plt.plot(Prediction_arima, color='red', label='Prediction')\n",
    "plt.legend(loc=\"upper left\")"
   ]
  },
  {
   "cell_type": "code",
   "execution_count": 22,
   "metadata": {},
   "outputs": [],
   "source": [
    "def forecast_accuracy(Model, forecast, actual):\n",
    "    mape = np.mean(np.abs(forecast - actual)/np.abs(actual))  # MAPE\n",
    "    me = np.mean(forecast - actual)             # ME\n",
    "    mae = np.mean(np.abs(forecast - actual))    # MAE\n",
    "    mpe = np.mean((forecast - actual)/actual)   # MPE\n",
    "    rmse = np.mean((forecast - actual)**2)**.5  # RMSE\n",
    "    corr = np.corrcoef(forecast, actual)[0,1]   # corr\n",
    "    mins = np.amin(np.hstack([forecast[:,None], \n",
    "                              actual[:,None]]), axis=1)\n",
    "    maxs = np.amax(np.hstack([forecast[:,None], \n",
    "                              actual[:,None]]), axis=1)\n",
    "    minmax = 1 - np.mean(mins/maxs)             # minmax\n",
    "    \n",
    "    return({'Model':Model,'mape':mape, 'me':me, 'mae': mae, 'mpe': mpe, \n",
    "            'rmse':rmse, 'corr':corr, 'mins':mins, 'maxs':maxs, 'minmax':minmax})\n",
    "\n",
    "\n",
    "def metrics_ARIMA(models_ARIMA, train_arima, test_arima):\n",
    "    dfmetrics_ARIMA = pd.DataFrame(columns=[\"Model\", \"mape\", \"me\", \"mae\", \"mpe\", \"rmse\", \"corr\", \"minmax\"])\n",
    "    for i in range(0,6):\n",
    "        for j in range(0,6):\n",
    "            dfmetrics_ARIMA = dfmetrics_ARIMA.append(forecast_accuracy(f\"ARIMA{i}{d_optimum}{j}\", models_ARIMA[f\"ARIMA{i}{d_optimum}{j}\"].predict(len(train_arima), len(train_arima)+len(test_arima)-1, typ='levels'), test_arima), ignore_index=True)\n",
    "    return dfmetrics_ARIMA\n",
    "\n",
    "\n",
    "\n"
   ]
  },
  {
   "cell_type": "code",
   "execution_count": 28,
   "metadata": {},
   "outputs": [
    {
     "ename": "TypeError",
     "evalue": "'DataFrame' object is not callable",
     "output_type": "error",
     "traceback": [
      "\u001b[1;31m---------------------------------------------------------------------------\u001b[0m",
      "\u001b[1;31mTypeError\u001b[0m                                 Traceback (most recent call last)",
      "\u001b[1;32mc:\\Users\\33646\\Documents\\GitHub\\Portfolio\\Microsoft_Stock_Price\\Code\\Microsoft_Stock_Price.ipynb Cell 40\u001b[0m in \u001b[0;36m<cell line: 1>\u001b[1;34m()\u001b[0m\n\u001b[1;32m----> <a href='vscode-notebook-cell:/c%3A/Users/33646/Documents/GitHub/Portfolio/Microsoft_Stock_Price/Code/Microsoft_Stock_Price.ipynb#X56sZmlsZQ%3D%3D?line=0'>1</a>\u001b[0m metrics_ARIMA \u001b[39m=\u001b[39m metrics_ARIMA(models_ARIMA, train_arima, test_arima)\n",
      "\u001b[1;31mTypeError\u001b[0m: 'DataFrame' object is not callable"
     ]
    }
   ],
   "source": [
    "metrics_ARIMA = metrics_ARIMA(models_ARIMA, train_arima, test_arima)"
   ]
  },
  {
   "cell_type": "code",
   "execution_count": 35,
   "metadata": {},
   "outputs": [],
   "source": [
    "import concurrent.futures"
   ]
  },
  {
   "cell_type": "code",
   "execution_count": 36,
   "metadata": {},
   "outputs": [
    {
     "ename": "TypeError",
     "evalue": "'Future' object is not callable",
     "output_type": "error",
     "traceback": [
      "\u001b[1;31m---------------------------------------------------------------------------\u001b[0m",
      "\u001b[1;31mTypeError\u001b[0m                                 Traceback (most recent call last)",
      "\u001b[1;32mc:\\Users\\33646\\Documents\\GitHub\\Portfolio\\Microsoft_Stock_Price\\Code\\Microsoft_Stock_Price.ipynb Cell 42\u001b[0m in \u001b[0;36m<cell line: 1>\u001b[1;34m()\u001b[0m\n\u001b[0;32m      <a href='vscode-notebook-cell:/c%3A/Users/33646/Documents/GitHub/Portfolio/Microsoft_Stock_Price/Code/Microsoft_Stock_Price.ipynb#X61sZmlsZQ%3D%3D?line=0'>1</a>\u001b[0m \u001b[39mwith\u001b[39;00m concurrent\u001b[39m.\u001b[39mfutures\u001b[39m.\u001b[39mThreadPoolExecutor() \u001b[39mas\u001b[39;00m executor:\n\u001b[0;32m      <a href='vscode-notebook-cell:/c%3A/Users/33646/Documents/GitHub/Portfolio/Microsoft_Stock_Price/Code/Microsoft_Stock_Price.ipynb#X61sZmlsZQ%3D%3D?line=1'>2</a>\u001b[0m     metrics_ARIMA \u001b[39m=\u001b[39m executor\u001b[39m.\u001b[39msubmit(metrics_ARIMA, models_ARIMA, train_arima, test_arima)\n\u001b[1;32m----> <a href='vscode-notebook-cell:/c%3A/Users/33646/Documents/GitHub/Portfolio/Microsoft_Stock_Price/Code/Microsoft_Stock_Price.ipynb#X61sZmlsZQ%3D%3D?line=2'>3</a>\u001b[0m     metrics_ARIMA \u001b[39m=\u001b[39m metrics_ARIMA\u001b[39m.\u001b[39;49mresult()\n",
      "File \u001b[1;32mc:\\Users\\33646\\anaconda3\\lib\\concurrent\\futures\\_base.py:439\u001b[0m, in \u001b[0;36mFuture.result\u001b[1;34m(self, timeout)\u001b[0m\n\u001b[0;32m    437\u001b[0m     \u001b[39mraise\u001b[39;00m CancelledError()\n\u001b[0;32m    438\u001b[0m \u001b[39melif\u001b[39;00m \u001b[39mself\u001b[39m\u001b[39m.\u001b[39m_state \u001b[39m==\u001b[39m FINISHED:\n\u001b[1;32m--> 439\u001b[0m     \u001b[39mreturn\u001b[39;00m \u001b[39mself\u001b[39;49m\u001b[39m.\u001b[39;49m__get_result()\n\u001b[0;32m    441\u001b[0m \u001b[39mself\u001b[39m\u001b[39m.\u001b[39m_condition\u001b[39m.\u001b[39mwait(timeout)\n\u001b[0;32m    443\u001b[0m \u001b[39mif\u001b[39;00m \u001b[39mself\u001b[39m\u001b[39m.\u001b[39m_state \u001b[39min\u001b[39;00m [CANCELLED, CANCELLED_AND_NOTIFIED]:\n",
      "File \u001b[1;32mc:\\Users\\33646\\anaconda3\\lib\\concurrent\\futures\\_base.py:391\u001b[0m, in \u001b[0;36mFuture.__get_result\u001b[1;34m(self)\u001b[0m\n\u001b[0;32m    389\u001b[0m \u001b[39mif\u001b[39;00m \u001b[39mself\u001b[39m\u001b[39m.\u001b[39m_exception:\n\u001b[0;32m    390\u001b[0m     \u001b[39mtry\u001b[39;00m:\n\u001b[1;32m--> 391\u001b[0m         \u001b[39mraise\u001b[39;00m \u001b[39mself\u001b[39m\u001b[39m.\u001b[39m_exception\n\u001b[0;32m    392\u001b[0m     \u001b[39mfinally\u001b[39;00m:\n\u001b[0;32m    393\u001b[0m         \u001b[39m# Break a reference cycle with the exception in self._exception\u001b[39;00m\n\u001b[0;32m    394\u001b[0m         \u001b[39mself\u001b[39m \u001b[39m=\u001b[39m \u001b[39mNone\u001b[39;00m\n",
      "File \u001b[1;32mc:\\Users\\33646\\anaconda3\\lib\\concurrent\\futures\\thread.py:58\u001b[0m, in \u001b[0;36m_WorkItem.run\u001b[1;34m(self)\u001b[0m\n\u001b[0;32m     55\u001b[0m     \u001b[39mreturn\u001b[39;00m\n\u001b[0;32m     57\u001b[0m \u001b[39mtry\u001b[39;00m:\n\u001b[1;32m---> 58\u001b[0m     result \u001b[39m=\u001b[39m \u001b[39mself\u001b[39m\u001b[39m.\u001b[39mfn(\u001b[39m*\u001b[39m\u001b[39mself\u001b[39m\u001b[39m.\u001b[39margs, \u001b[39m*\u001b[39m\u001b[39m*\u001b[39m\u001b[39mself\u001b[39m\u001b[39m.\u001b[39mkwargs)\n\u001b[0;32m     59\u001b[0m \u001b[39mexcept\u001b[39;00m \u001b[39mBaseException\u001b[39;00m \u001b[39mas\u001b[39;00m exc:\n\u001b[0;32m     60\u001b[0m     \u001b[39mself\u001b[39m\u001b[39m.\u001b[39mfuture\u001b[39m.\u001b[39mset_exception(exc)\n",
      "\u001b[1;31mTypeError\u001b[0m: 'Future' object is not callable"
     ]
    }
   ],
   "source": [
    "with concurrent.futures.ThreadPoolExecutor() as executor:\n",
    "    metrics_ARIMA = executor.submit(metrics_ARIMA, models_ARIMA, train_arima, test_arima)\n",
    "    metrics_ARIMA = metrics_ARIMA.result()\n"
   ]
  },
  {
   "cell_type": "code",
   "execution_count": 1,
   "metadata": {},
   "outputs": [],
   "source": [
    "import multiprocessing\n",
    "\n",
    "def parallelize_metrics_ARIMA(models_ARIMA, train_arima, test_arima):\n",
    "    # Create a pool of processes\n",
    "    with multiprocessing.Pool() as pool:\n",
    "        # Map the forecast_accuracy function to the list of models in parallel\n",
    "        dfmetrics_ARIMA_list = pool.map(forecast_accuracy, models_ARIMA.values(), train_arima, test_arima)\n",
    "        \n",
    "    # Combine the results into a single dataframe\n",
    "    dfmetrics_ARIMA = pd.concat(dfmetrics_ARIMA_list)\n",
    "    \n",
    "    return dfmetrics_ARIMA\n"
   ]
  },
  {
   "cell_type": "markdown",
   "metadata": {},
   "source": [
    "# "
   ]
  },
  {
   "cell_type": "markdown",
   "metadata": {},
   "source": [
    "# LSTM\n",
    "\n",
    "I did this part thanks to the video [6]\n",
    "\n",
    "In this part, we will use an artificial recurrent neural network called Long Short Term Memory(LSTM).\n",
    "\n",
    "Recently, deep learning-based algorithms such as Recurrent Neural Networks (RNN) and its special kind Long Short-Term Memory Networks (LSTM) have gained much attention with applications in various areas. While maintaining RNN’s ability to learn the temporal dynamics of a sequential data, LSTM can furthermore handle the vanishing and exploding gradients problem [7].\n",
    "\n",
    "According to Korstanje in his book, Advanced Forecasting with Python: “The LSTM cell adds long-term memory in an even more performant way because it allows even more parameters to be learned. This makes it the most powerful [Recurrent Neural Network] to do forecasting, especially when you have a longer-term trend in your data. LSTMs are one of the state-of-the-art models for forecasting at the moment,” (2021) [8]\n",
    "\n",
    "What is a neural network ?\n",
    "\n",
    "A neural network is a structure of layer of neural network connected. It is not an algorithm but a combination of algorithms which allow us to do complex operations on the data.\n",
    "\n",
    "What is a recurrent neural network ?\n",
    "\n",
    "There is a class of neural network concepted to treat time series. The neurals of RNN have cellular memory, and the input is taken depending on this internal state, which is realized thanks to the loops of the neural network. It exists reccurent module of \"tanh\" layers in the RNN which allow them to keep the information. However, not for a long time, this is why we need LSTM.\n",
    "\n",
    "What is LSTM ?\n",
    "\n",
    "This is a particular type of recurrent neural network which is able to learn dependencie over long time on the data. This is done because the recurent module of the model has a combination of 4 layers interacting between each other.[9]\n",
    "\n",
    "\n",
    "## Data treatment\n"
   ]
  },
  {
   "cell_type": "code",
   "execution_count": 16,
   "metadata": {},
   "outputs": [],
   "source": [
    "#We ll cut the dataset in a training and a testing set\n",
    "#scale the data\n",
    "scaler = MinMaxScaler(feature_range=(0,1))\n",
    "scaled_data = scaler.fit_transform(df.Close.values.reshape(-1,1))"
   ]
  },
  {
   "cell_type": "code",
   "execution_count": 19,
   "metadata": {},
   "outputs": [
    {
     "name": "stdout",
     "output_type": "stream",
     "text": [
      "[array([0.00210064, 0.        , 0.00615535, 0.00605765, 0.00552027,\n",
      "       0.00581339, 0.00698583, 0.00718124, 0.00664387, 0.00962384,\n",
      "       0.00913532, 0.00649731, 0.01279922, 0.01148021, 0.01319003,\n",
      "       0.01489985, 0.0370298 , 0.03781143, 0.0433317 , 0.04284319,\n",
      "       0.0407914 , 0.04088911, 0.03883732, 0.0357108 , 0.02926234,\n",
      "       0.03131412, 0.03644358, 0.0345872 , 0.0344895 , 0.03585735,\n",
      "       0.04118222, 0.03913043, 0.03771373, 0.03561309, 0.03561309,\n",
      "       0.03483146, 0.03229116, 0.03077675, 0.03575965, 0.03497802,\n",
      "       0.03209575, 0.03390327, 0.03238886, 0.0320469 , 0.02965315,\n",
      "       0.02857841, 0.02657548, 0.02618466, 0.03087445, 0.03004397,\n",
      "       0.02774792, 0.02535418, 0.027064  , 0.02774792, 0.03141182,\n",
      "       0.028383  , 0.02901808, 0.02745481, 0.02613581, 0.02618466])]\n",
      "[0.02427943331704932]\n",
      "\n"
     ]
    }
   ],
   "source": [
    "train_LSTM = scaled_data[:n]\n",
    "test_LSTM = scaled_data[n - 60:,:]\n",
    "#split the data into x_train and y_train dataset\n",
    "x_train_LSTM = []\n",
    "y_train_LSTM = []\n",
    "\n",
    "for i in range(60, len(train_LSTM)):\n",
    "    x_train_LSTM.append(train_LSTM[i-60:i, 0])\n",
    "    y_train_LSTM.append(train_LSTM[i, 0])\n",
    "    if i <= 60:\n",
    "        print(x_train_LSTM)\n",
    "        print(y_train_LSTM)\n",
    "        print()\n",
    "        \n",
    "x_test_LSTM = []\n",
    "y_test_LSTM =  df.Close.values[n:]\n",
    "\n",
    "for i in range(60,len(test_LSTM)):\n",
    "    x_test_LSTM.append(test_LSTM[i-60:i, 0])"
   ]
  },
  {
   "cell_type": "code",
   "execution_count": 20,
   "metadata": {},
   "outputs": [],
   "source": [
    "#convert the x_train and y_train to numpy arrays\n",
    "x_train_LSTM, y_train_LSTM = np.array(x_train_LSTM), np.array(y_train_LSTM)\n",
    "x_test_LSTM = np.array(x_test_LSTM)"
   ]
  },
  {
   "cell_type": "code",
   "execution_count": 21,
   "metadata": {},
   "outputs": [
    {
     "name": "stdout",
     "output_type": "stream",
     "text": [
      "(1148, 60, 1)\n"
     ]
    }
   ],
   "source": [
    "#Reshape the data\n",
    "x_train_LSTM = np.reshape(x_train_LSTM, (x_train_LSTM.shape[0], x_train_LSTM.shape[1], 1))\n",
    "print(x_train_LSTM.shape)\n",
    "x_test_LSTM = np.reshape(x_test_LSTM, (x_test_LSTM.shape[0], x_test_LSTM.shape[1], 1))\n"
   ]
  },
  {
   "cell_type": "markdown",
   "metadata": {
    "notebookRunGroups": {
     "groupValue": "2"
    }
   },
   "source": [
    "## Build the LSTM Model"
   ]
  },
  {
   "cell_type": "code",
   "execution_count": 47,
   "metadata": {},
   "outputs": [],
   "source": [
    "#Build the LSTM model\n",
    "model_LSTM = Sequential()\n",
    "model_LSTM.add(LSTM(units=50, return_sequences=True, input_shape=(x_train_LSTM.shape[1], 1)))\n",
    "model_LSTM.add(LSTM(units=50, return_sequences=False))\n",
    "model_LSTM.add(Dense(units=25))\n",
    "model_LSTM.add(Dense(units=1))"
   ]
  },
  {
   "cell_type": "code",
   "execution_count": 48,
   "metadata": {},
   "outputs": [],
   "source": [
    "#Compile the model\n",
    "model_LSTM.compile(optimizer='adam', loss='mean_squared_error')"
   ]
  },
  {
   "cell_type": "code",
   "execution_count": 49,
   "metadata": {},
   "outputs": [
    {
     "name": "stdout",
     "output_type": "stream",
     "text": [
      "1148/1148 [==============================] - 39s 31ms/step - loss: 5.7060e-04\n"
     ]
    },
    {
     "data": {
      "text/plain": [
       "<keras.callbacks.History at 0x1cd3cc3f580>"
      ]
     },
     "execution_count": 49,
     "metadata": {},
     "output_type": "execute_result"
    }
   ],
   "source": [
    "#Train the model\n",
    "model_LSTM.fit(x_train_LSTM, y_train_LSTM, batch_size=1, epochs=1)"
   ]
  },
  {
   "cell_type": "code",
   "execution_count": 50,
   "metadata": {},
   "outputs": [
    {
     "name": "stdout",
     "output_type": "stream",
     "text": [
      "10/10 [==============================] - 1s 10ms/step\n"
     ]
    }
   ],
   "source": [
    "#Get the model's predicted values\n",
    "predictions_LSTM = model_LSTM.predict(x_test_LSTM)\n",
    "predictions_LSTM = scaler.inverse_transform(predictions_LSTM)"
   ]
  },
  {
   "cell_type": "code",
   "execution_count": 51,
   "metadata": {},
   "outputs": [
    {
     "data": {
      "text/plain": [
       "35.0905932486717"
      ]
     },
     "execution_count": 51,
     "metadata": {},
     "output_type": "execute_result"
    }
   ],
   "source": [
    "#Get the root mean squared error\n",
    "rmse_LSTM = np.sqrt(np.mean(((predictions_LSTM - y_test_LSTM)**2)))\n",
    "rmse_LSTM"
   ]
  },
  {
   "cell_type": "code",
   "execution_count": 13,
   "metadata": {},
   "outputs": [
    {
     "data": {
      "image/png": "[encoded data removed]",
      "text/plain": [
       "<Figure size 1152x576 with 1 Axes>"
      ]
     },
     "metadata": {
      "needs_background": "light"
     },
     "output_type": "display_data"
    }
   ],
   "source": [
    "#plot the data\n",
    "train = df.Close[:n]\n",
    "valid = df.Close[n:]\n",
    "valid = pd.DataFrame(valid)\n",
    "valid[\"Predictions\"] = predictions_LSTM\n",
    "valid\n",
    "\n",
    "#Visualize the data\n",
    "plt.figure(figsize=(16,8))\n",
    "plt.title(\"Model LSTM\")\n",
    "plt.xlabel(\"Date\", fontsize=18)\n",
    "plt.ylabel(\"Close Price USD ($)\", fontsize=18)\n",
    "plt.plot(train)\n",
    "plt.plot(valid[[\"Close\",\"Predictions\"]])\n",
    "plt.legend(['Train', 'Value', 'Predictions'], loc='lower right')\n",
    "plt.show()"
   ]
  },
  {
   "cell_type": "code",
   "execution_count": 22,
   "metadata": {},
   "outputs": [],
   "source": [
    "def train_LSTM():\n",
    "    model_LSTM = Sequential()\n",
    "    model_LSTM.add(LSTM(units=50, return_sequences=True, input_shape=(x_train_LSTM.shape[1], 1)))\n",
    "    model_LSTM.add(LSTM(units=50, return_sequences=False))\n",
    "    model_LSTM.add(Dense(units=25))\n",
    "    model_LSTM.add(Dense(units=1))\n",
    "    model_LSTM.compile(optimizer='adam', loss='mean_squared_error')\n",
    "    model_LSTM.fit(x_train_LSTM, y_train_LSTM, batch_size=1, epochs=1)\n",
    "    predictions_LSTM = model_LSTM.predict(x_test_LSTM)\n",
    "    predictions_LSTM = scaler.inverse_transform(predictions_LSTM)\n",
    "    #plot the data\n",
    "    train = df.Close[:n]\n",
    "    valid = df.Close[n:]\n",
    "    valid = pd.DataFrame(valid)\n",
    "    valid[\"Predictions\"] = predictions_LSTM\n",
    "    return valid\n",
    "\n",
    "from multiprocessing import Process\n",
    "\n",
    "\n",
    "p1 = mp.Process(target=train_LSTM,)\n",
    "\n"
   ]
  },
  {
   "cell_type": "code",
   "execution_count": 23,
   "metadata": {},
   "outputs": [
    {
     "data": {
      "text/plain": [
       "<Process name='Process-1' parent=17164 initial>"
      ]
     },
     "execution_count": 23,
     "metadata": {},
     "output_type": "execute_result"
    }
   ],
   "source": [
    "p1"
   ]
  },
  {
   "cell_type": "markdown",
   "metadata": {},
   "source": [
    "# Prophet Model"
   ]
  },
  {
   "cell_type": "code",
   "execution_count": 40,
   "metadata": {},
   "outputs": [
    {
     "data": {
      "text/html": [
       "<div>\n",
       "<style scoped>\n",
       "    .dataframe tbody tr th:only-of-type {\n",
       "        vertical-align: middle;\n",
       "    }\n",
       "\n",
       "    .dataframe tbody tr th {\n",
       "        vertical-align: top;\n",
       "    }\n",
       "\n",
       "    .dataframe thead th {\n",
       "        text-align: right;\n",
       "    }\n",
       "</style>\n",
       "<table border=\"1\" class=\"dataframe\">\n",
       "  <thead>\n",
       "    <tr style=\"text-align: right;\">\n",
       "      <th></th>\n",
       "      <th>Date</th>\n",
       "      <th>Close</th>\n",
       "    </tr>\n",
       "  </thead>\n",
       "  <tbody>\n",
       "    <tr>\n",
       "      <th>0</th>\n",
       "      <td>2015-04-01 16:00:00</td>\n",
       "      <td>40.72</td>\n",
       "    </tr>\n",
       "    <tr>\n",
       "      <th>1</th>\n",
       "      <td>2015-04-02 16:00:00</td>\n",
       "      <td>40.29</td>\n",
       "    </tr>\n",
       "    <tr>\n",
       "      <th>2</th>\n",
       "      <td>2015-04-06 16:00:00</td>\n",
       "      <td>41.55</td>\n",
       "    </tr>\n",
       "    <tr>\n",
       "      <th>3</th>\n",
       "      <td>2015-04-07 16:00:00</td>\n",
       "      <td>41.53</td>\n",
       "    </tr>\n",
       "    <tr>\n",
       "      <th>4</th>\n",
       "      <td>2015-04-08 16:00:00</td>\n",
       "      <td>41.42</td>\n",
       "    </tr>\n",
       "    <tr>\n",
       "      <th>...</th>\n",
       "      <td>...</td>\n",
       "      <td>...</td>\n",
       "    </tr>\n",
       "    <tr>\n",
       "      <th>1506</th>\n",
       "      <td>2021-03-25 16:00:00</td>\n",
       "      <td>232.34</td>\n",
       "    </tr>\n",
       "    <tr>\n",
       "      <th>1507</th>\n",
       "      <td>2021-03-26 16:00:00</td>\n",
       "      <td>236.48</td>\n",
       "    </tr>\n",
       "    <tr>\n",
       "      <th>1508</th>\n",
       "      <td>2021-03-29 16:00:00</td>\n",
       "      <td>235.24</td>\n",
       "    </tr>\n",
       "    <tr>\n",
       "      <th>1509</th>\n",
       "      <td>2021-03-30 16:00:00</td>\n",
       "      <td>231.85</td>\n",
       "    </tr>\n",
       "    <tr>\n",
       "      <th>1510</th>\n",
       "      <td>2021-03-31 16:00:00</td>\n",
       "      <td>235.77</td>\n",
       "    </tr>\n",
       "  </tbody>\n",
       "</table>\n",
       "<p>1511 rows × 2 columns</p>\n",
       "</div>"
      ],
      "text/plain": [
       "                    Date   Close\n",
       "0    2015-04-01 16:00:00   40.72\n",
       "1    2015-04-02 16:00:00   40.29\n",
       "2    2015-04-06 16:00:00   41.55\n",
       "3    2015-04-07 16:00:00   41.53\n",
       "4    2015-04-08 16:00:00   41.42\n",
       "...                  ...     ...\n",
       "1506 2021-03-25 16:00:00  232.34\n",
       "1507 2021-03-26 16:00:00  236.48\n",
       "1508 2021-03-29 16:00:00  235.24\n",
       "1509 2021-03-30 16:00:00  231.85\n",
       "1510 2021-03-31 16:00:00  235.77\n",
       "\n",
       "[1511 rows x 2 columns]"
      ]
     },
     "execution_count": 40,
     "metadata": {},
     "output_type": "execute_result"
    }
   ],
   "source": [
    "df[\"Close\"].reset_index()"
   ]
  },
  {
   "cell_type": "code",
   "execution_count": 43,
   "metadata": {},
   "outputs": [
    {
     "name": "stderr",
     "output_type": "stream",
     "text": [
      "02:02:11 - cmdstanpy - INFO - Chain [1] start processing\n",
      "02:02:12 - cmdstanpy - INFO - Chain [1] done processing\n"
     ]
    },
    {
     "data": {
      "text/plain": [
       "<prophet.forecaster.Prophet at 0x24719867490>"
      ]
     },
     "execution_count": 43,
     "metadata": {},
     "output_type": "execute_result"
    }
   ],
   "source": [
    "prophet = Prophet()\n",
    "#rename data columns\n",
    "prophet.fit(df[\"Close\"].reset_index().rename(columns={\"Date\":\"ds\", \"Close\":\"y\"}))\n",
    "[10] Inclure RMSE et MSE"
   ]
  },
  {
   "attachments": {},
   "cell_type": "markdown",
   "metadata": {},
   "source": [
    "# Bibliographie :\n",
    "- [1] https://www.kaggle.com/datasets/vijayvvenkitesh/microsoft-stock-time-series-analysis\n",
    "- [2] https://www.kaggle.com/datasets/arashnic/time-series-forecasting-with-yahoo-stock-price\n",
    "- [3] https://www.youtube.com/watch?v=gqryqIlvEoM&t=0s&ab_channel=DecisionForest\n",
    "- [4] https://www.youtube.com/watch?v=JMT1eGJ9c2M&t=241s&ab_channel=DecisionForest\n",
    "- [5] https://www.projectpro.io/article/how-to-build-arima-model-in-python/544\n",
    "- [6] https://www.youtube.com/watch?v=QIUxPv5PJOY&ab_channel=ComputerScience\n",
    "- [7] https://blog.engineering.publicissapient.fr/2020/09/23/long-short-term-memory-lstm-networks-for-time-series-forecasting/\n",
    "- [8] https://towardsdatascience.com/exploring-the-lstm-neural-network-model-for-time-series-8b7685aa8cf\n",
    "- [9] https://getdoc.wiki/Time-series-lstm-model\n",
    "- [10] https://facebook.github.io/prophet/docs/quick_start.html\n",
    "- [11] https://www.kaggle.com/code/prashant111/arima-model-for-time-series-forecasting\n",
    "\n",
    "Bryan Kelly a lire\n"
   ]
  },
  {
   "cell_type": "markdown",
   "metadata": {},
   "source": []
  }
 ],
 "metadata": {
  "kernelspec": {
   "display_name": "base",
   "language": "python",
   "name": "python3"
  },
  "language_info": {
   "codemirror_mode": {
    "name": "ipython",
    "version": 3
   },
   "file_extension": ".py",
   "mimetype": "text/x-python",
   "name": "python",
   "nbconvert_exporter": "python",
   "pygments_lexer": "ipython3",
   "version": "3.9.12"
  },
  "orig_nbformat": 4,
  "vscode": {
   "interpreter": {
    "hash": "956d3343e5c56f315b523a21ac5108823be4191bbe164313e650905792b1837f"
   }
  }
 },
 "nbformat": 4,
 "nbformat_minor": 2
}
